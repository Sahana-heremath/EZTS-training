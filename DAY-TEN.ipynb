{
 "cells": [
  {
   "cell_type": "markdown",
   "id": "03c32d44",
   "metadata": {},
   "source": [
    "# LEETCODE PROBLEMS"
   ]
  },
  {
   "cell_type": "markdown",
   "id": "3342f3ea",
   "metadata": {},
   "source": [
    "### FIRST MISSING POSITIVE"
   ]
  },
  {
   "cell_type": "markdown",
   "id": "c8c9c527",
   "metadata": {},
   "source": [
    "class Solution:\n",
    "    def firstMissingPositive(self, nums: List[int]) -> int:\n",
    "        res=1\n",
    "        nums.sort()\n",
    "        for i in nums:\n",
    "            if res==i:\n",
    "                res+=1\n",
    "        return res"
   ]
  },
  {
   "cell_type": "markdown",
   "id": "dca2bc0a",
   "metadata": {},
   "source": []
  },
  {
   "cell_type": "markdown",
   "id": "89b23294",
   "metadata": {},
   "source": [
    "### INORDER TRAVERSAL"
   ]
  },
  {
   "cell_type": "code",
   "execution_count": null,
   "id": "2c77f795",
   "metadata": {},
   "outputs": [],
   "source": [
    "# Definition for a binary tree node.\n",
    "# class TreeNode:\n",
    "#     def __init__(self, val=0, left=None, right=None):\n",
    "#         self.val = val\n",
    "#         self.left = left\n",
    "#         self.right = right\n",
    "class Solution:\n",
    "    def inorderTraversal(self, root: Optional[TreeNode]) -> List[int]:\n",
    "        res=[]\n",
    "        def inorder(root):\n",
    "            if root == None:\n",
    "                return\n",
    "            inorder(root.left)\n",
    "            res.append(root.val)\n",
    "            inorder(root.right)\n",
    "        inorder(root)\n",
    "        return res        "
   ]
  },
  {
   "cell_type": "markdown",
   "id": "8f4cb0b0",
   "metadata": {},
   "source": [
    "### MAX DEPTH OF BINARY TREE"
   ]
  },
  {
   "cell_type": "code",
   "execution_count": null,
   "id": "61e53f27",
   "metadata": {},
   "outputs": [],
   "source": [
    "# Definition for a binary tree node.\n",
    "# class TreeNode:\n",
    "#     def __init__(self, val=0, left=None, right=None):\n",
    "#         self.val = val\n",
    "#         self.left = left\n",
    "#         self.right = right\n",
    "class Solution:\n",
    "    def maxDepth(self, root: Optional[TreeNode]) -> int:\n",
    "        if root==None:\n",
    "            return 0\n",
    "        else:\n",
    "            LH=self.maxDepth(root.left)\n",
    "            RH=self.maxDepth(root.right)\n",
    "            return max(LH,RH)+1   "
   ]
  },
  {
   "cell_type": "markdown",
   "id": "192fedd6",
   "metadata": {},
   "source": [
    "### PREORDER TRAVERSAL OF BINARY TREE"
   ]
  },
  {
   "cell_type": "code",
   "execution_count": null,
   "id": "0785ea94",
   "metadata": {},
   "outputs": [],
   "source": [
    "# Definition for a binary tree node.\n",
    "# class TreeNode:\n",
    "#     def __init__(self, val=0, left=None, right=None):\n",
    "#         self.val = val\n",
    "#         self.left = left\n",
    "#         self.right = right\n",
    "class Solution:\n",
    "    def preorderTraversal(self, root: Optional[TreeNode]) -> List[int]:\n",
    "        res=[]\n",
    "        def preorder(root):\n",
    "            if root==None:\n",
    "                return\n",
    "            res.append(root.val)\n",
    "            preorder(root.left)\n",
    "            preorder(root.right)        \n",
    "        preorder(root)\n",
    "        return res"
   ]
  },
  {
   "cell_type": "markdown",
   "id": "2ec67b92",
   "metadata": {},
   "source": [
    "### POST ORDER TRAVERSAL"
   ]
  },
  {
   "cell_type": "code",
   "execution_count": null,
   "id": "9cafd351",
   "metadata": {},
   "outputs": [],
   "source": [
    "# Definition for a binary tree node.\n",
    "# class TreeNode:\n",
    "#     def __init__(self, val=0, left=None, right=None):\n",
    "#         self.val = val\n",
    "#         self.left = left\n",
    "#         self.right = right\n",
    "class Solution:\n",
    "    def preorderTraversal(self, root: Optional[TreeNode]) -> List[int]:\n",
    "        res=[]\n",
    "        def preorder(root):\n",
    "            if root==None:\n",
    "                return\n",
    "            res.append(root.val)\n",
    "            preorder(root.left)\n",
    "            preorder(root.right)        \n",
    "        preorder(root)\n",
    "        return res"
   ]
  }
 ],
 "metadata": {
  "kernelspec": {
   "display_name": "Python 3 (ipykernel)",
   "language": "python",
   "name": "python3"
  },
  "language_info": {
   "codemirror_mode": {
    "name": "ipython",
    "version": 3
   },
   "file_extension": ".py",
   "mimetype": "text/x-python",
   "name": "python",
   "nbconvert_exporter": "python",
   "pygments_lexer": "ipython3",
   "version": "3.11.5"
  }
 },
 "nbformat": 4,
 "nbformat_minor": 5
}
