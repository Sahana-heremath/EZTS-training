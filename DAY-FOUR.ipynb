{
 "cells": [
  {
   "cell_type": "code",
   "execution_count": 14,
   "id": "cdd29513",
   "metadata": {},
   "outputs": [
    {
     "name": "stdout",
     "output_type": "stream",
     "text": [
      "{'alex': ['I'], 'sahana': ['E'], 'tanu': ['O', 'U'], 'chinni': ['A']}\n"
     ]
    }
   ],
   "source": [
    "def count_vowel(S):\n",
    "    dic ={'A':0,'E':0,'I':0,'O':0,'U':0}\n",
    "    for i in S:\n",
    "        if i=='a' or i=='A':\n",
    "            dic['A']+=1\n",
    "        elif i=='e' or i=='E':\n",
    "            dic['E']+=1\n",
    "        elif i=='i' or i=='I':\n",
    "            dic['I']+=1\n",
    "        elif i=='o' or i=='O':\n",
    "            dic['O']+=1\n",
    "        elif i=='u' or i=='U':\n",
    "            dic['U']+=1\n",
    "\n",
    "    x=max(dic.values())\n",
    "    result=[]\n",
    "    for i,j in dic.items():\n",
    "        if j==x:\n",
    "            result.append(i)\n",
    "\n",
    "    return result\n",
    "\n",
    "i_p =[[\"alex\",\"i enjoy hiking\"],[\"sahana\",\"hai heello\"],[\"tanu\",\"welcome toyouuuu python\"],[\"chinni\",\"am an ambitioned \"]]\n",
    "\n",
    "o_p={}\n",
    "\n",
    "for i in i_p:\n",
    "    o_p[i[0]]=count_vowel(i[1])\n",
    "    \n",
    "print(o_p)\n"
   ]
  },
  {
   "cell_type": "markdown",
   "id": "77f6754f",
   "metadata": {},
   "source": [
    "## given an integer array your task is to find the 3 continuos digit which gives yu maximum sum"
   ]
  },
  {
   "cell_type": "code",
   "execution_count": 27,
   "id": "69e6b585",
   "metadata": {},
   "outputs": [
    {
     "name": "stdout",
     "output_type": "stream",
     "text": [
      "21 6 7 8\n"
     ]
    }
   ],
   "source": [
    "l=[1,2,3,4,5,6,7,8,2,3,4,5]\n",
    "sum=max=0\n",
    "for i in range(0,len(l)-3):\n",
    "    sum=l[i]+l[i+1]+l[i+2]\n",
    "    if max<sum:\n",
    "        max=sum\n",
    "        pos=i\n",
    "print(max,l[pos],l[pos+1],l[pos+2])"
   ]
  },
  {
   "cell_type": "code",
   "execution_count": null,
   "id": "6b576824",
   "metadata": {},
   "outputs": [],
   "source": []
  },
  {
   "cell_type": "markdown",
   "id": "cb9a36ce",
   "metadata": {},
   "source": [
    "### given an integer array your task is to find the k continuos digit which gives yu maximum sum.wheere k is user input"
   ]
  },
  {
   "cell_type": "code",
   "execution_count": 4,
   "id": "b9db079f",
   "metadata": {},
   "outputs": [
    {
     "name": "stdout",
     "output_type": "stream",
     "text": [
      "enter num of continuos digit: 4\n",
      "26\n",
      "5\n",
      "6\n",
      "7\n",
      "8\n"
     ]
    }
   ],
   "source": [
    "l=[1,2,3,4,5,6,7,8,2,3,4,5]\n",
    "sum=max=0\n",
    "k=int(input(\"enter num of continuos digit: \"))\n",
    "for i in range(0,len(l)-k+1):  #T.C= n\n",
    "    sum=0\n",
    "    for j in range(0,k):   #T.C = k\n",
    "        sum+=l[i+j]\n",
    "        \n",
    "    if max<sum:  \n",
    "        max=sum\n",
    "        pos=i\n",
    "print(max)\n",
    "for j in range(0,k):\n",
    "    print(l[pos+j]) # total TC is n*k"
   ]
  },
  {
   "cell_type": "code",
   "execution_count": 3,
   "id": "dcbe7f42",
   "metadata": {},
   "outputs": [],
   "source": [
    "# to reduce this code to get T.C as 'n'"
   ]
  },
  {
   "cell_type": "code",
   "execution_count": null,
   "id": "65efedd2",
   "metadata": {},
   "outputs": [],
   "source": []
  },
  {
   "cell_type": "markdown",
   "id": "2a9a6a17",
   "metadata": {},
   "source": [
    "### sliding window code"
   ]
  },
  {
   "cell_type": "code",
   "execution_count": 7,
   "id": "ef731e1e",
   "metadata": {},
   "outputs": [
    {
     "name": "stdout",
     "output_type": "stream",
     "text": [
      "enter the no of continuous digit:3\n",
      "4\n",
      "6\n",
      "7\n"
     ]
    }
   ],
   "source": [
    "l= [2,4,3,5,6,3,4,6,7,1,2,5]\n",
    "window=max=0\n",
    "k=int(input(\"enter the no of continuous digit:\"))\n",
    "for j in range (0,k):\n",
    "    window+=l[j]\n",
    "\n",
    "for i in range (0,len(l)-k):\n",
    "    if max<window:\n",
    "        max=window\n",
    "        pos=i\n",
    "    window=window+l[i+k]-l[i]\n",
    "for j in range(0,k):\n",
    "    print(l[pos+j])"
   ]
  },
  {
   "cell_type": "markdown",
   "id": "c5ce3043",
   "metadata": {},
   "source": [
    "### Return the min num of consecutive cards you have to pick up to have a pair of matching cards among the picked cards.if its impossible to have matching cards return -1. Input: cards=[3,4,2,3,4,7] output:4. exp: we can pick up the cardds [3,4,2,3] which contain a matching pair of cardswith value 3. note that picking up cards [4,2,3,4] is also optional"
   ]
  },
  {
   "cell_type": "markdown",
   "id": "3da1c894",
   "metadata": {},
   "source": [
    "### 3,4,2,3,4,7"
   ]
  },
  {
   "cell_type": "code",
   "execution_count": 8,
   "id": "2822777c",
   "metadata": {},
   "outputs": [
    {
     "name": "stdout",
     "output_type": "stream",
     "text": [
      "enter the no of digit to pick: 4\n",
      "4\n",
      "2\n",
      "3\n",
      "4\n"
     ]
    }
   ],
   "source": [
    "l= [3,4,2,3,4,7]\n",
    "window=max=0\n",
    "k=int(input(\"enter the no of digit to pick: \"))\n",
    "print(len(l))\n",
    "for j in range (0,k):\n",
    "    window+=l[j]\n",
    "max=window\n",
    "pos=0\n",
    "for i in range (0,len(l)-k):\n",
    "    window=window+l[i+k]\n",
    "    if max<window:\n",
    "        max=window\n",
    "        pos=i\n",
    "    window=window+l[i+k]-l[i]\n",
    "    \n",
    "print(\"result\")\n",
    "print(max)\n",
    "for j in range(0,k):\n",
    "    print(l[pos+j])"
   ]
  },
  {
   "cell_type": "code",
   "execution_count": null,
   "id": "d9a3f64e",
   "metadata": {},
   "outputs": [],
   "source": []
  }
 ],
 "metadata": {
  "kernelspec": {
   "display_name": "Python 3 (ipykernel)",
   "language": "python",
   "name": "python3"
  },
  "language_info": {
   "codemirror_mode": {
    "name": "ipython",
    "version": 3
   },
   "file_extension": ".py",
   "mimetype": "text/x-python",
   "name": "python",
   "nbconvert_exporter": "python",
   "pygments_lexer": "ipython3",
   "version": "3.11.5"
  }
 },
 "nbformat": 4,
 "nbformat_minor": 5
}
