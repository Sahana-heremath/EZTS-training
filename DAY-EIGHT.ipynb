{
 "cells": [
  {
   "cell_type": "markdown",
   "id": "e730058e",
   "metadata": {},
   "source": [
    "## GRAPHS"
   ]
  },
  {
   "cell_type": "code",
   "execution_count": 1,
   "id": "766f4c9f",
   "metadata": {},
   "outputs": [],
   "source": [
    "# TREE IS A GRAPH BUT GRAPH IS NOT A TREE\n",
    "# IT HAS EDGES AND VERTICES"
   ]
  },
  {
   "cell_type": "code",
   "execution_count": 2,
   "id": "d50c14cd",
   "metadata": {},
   "outputs": [],
   "source": [
    "#IN EDGES WE HAVE TWO TYPES: 1)WEIGHT 2)DIRECTION\n",
    "#IN EACH OF THEM THEY ARE TWO TYPES:\n",
    "#1) i)weighted directed n ii) unweighted undirected\n",
    "#2) i)unweighted directed n ii)weighted undirected"
   ]
  },
  {
   "cell_type": "code",
   "execution_count": 4,
   "id": "89b6ec2f",
   "metadata": {},
   "outputs": [],
   "source": [
    "#cost can be of any type: i)time 2)amount 3)distance"
   ]
  },
  {
   "cell_type": "code",
   "execution_count": 5,
   "id": "9b6a9032",
   "metadata": {},
   "outputs": [],
   "source": [
    "# graph can be stored in two ways: i) adjacency list : we create list of tuple(start,end,weight)\n",
    "#ii)adjacency matrix"
   ]
  },
  {
   "cell_type": "code",
   "execution_count": 6,
   "id": "2c2a34e8",
   "metadata": {},
   "outputs": [],
   "source": []
  },
  {
   "cell_type": "code",
   "execution_count": 13,
   "id": "6f4bd023",
   "metadata": {},
   "outputs": [
    {
     "name": "stdout",
     "output_type": "stream",
     "text": [
      "4\n",
      "8\n",
      "6\n",
      "3\n",
      "5\n",
      "7\n",
      "2\n",
      "1\n"
     ]
    }
   ],
   "source": [
    "def g_dfs(adjlist,v,st,e):\n",
    "    if v[e]=='F':\n",
    "        st.append(e)\n",
    "        v[e]='T' \n",
    "    else:\n",
    "        return\n",
    "    for i in adjlist[e]:\n",
    "        g_dfs(adjlist,v,st,i[1])\n",
    "    print(st.pop())\n",
    "st=[]\n",
    "v={1:'F',2:'F',3:'F',4:'F',5:'F',6:'F',7:'F',8:'F'}\n",
    "adjlist={1:[(1,2,0),(1,3,0)],\n",
    "             2:[(2,1,0),(2,7,0)],\n",
    "             3:[(3,1,0),(3,6,0),(3,5,0)],\n",
    "             4:[(4,7,0),(4,8,0)],\n",
    "             5:[(5,3,0),(5,7,0)],\n",
    "             6:[(6,3,0),(6,8,0)],\n",
    "             7:[(7,2,0),(7,5,0),(7,4,0)],\n",
    "             8:[(8,4,0),(8,6,0),(8,7,0)]}\n",
    "g_dfs(adjlist,v,st,1)\n",
    "\n",
    "   \n",
    "    \n"
   ]
  },
  {
   "cell_type": "code",
   "execution_count": 16,
   "id": "5d4bc1b1",
   "metadata": {},
   "outputs": [
    {
     "name": "stdout",
     "output_type": "stream",
     "text": [
      "1\n",
      "2\n",
      "3\n",
      "7\n",
      "6\n",
      "5\n",
      "4\n",
      "8\n"
     ]
    }
   ],
   "source": [
    "def BFS(G,e):\n",
    "    Q=[e]\n",
    "    V={}\n",
    "    for i in G.keys():\n",
    "        V[i]=False\n",
    "    V[e]=True\n",
    "    \n",
    "    while len(Q)!=0:\n",
    "        curr=Q.pop(0)\n",
    "        print(curr)\n",
    "        for i in G[curr]:\n",
    "            if V[i[1]]==False:\n",
    "                Q.append(i[1])\n",
    "                V[i[1]]=True\n",
    "adjlist={1:[(1,2,0),(1,3,0)],\n",
    "             2:[(2,1,0),(2,7,0)],\n",
    "             3:[(3,1,0),(3,6,0),(3,5,0)],\n",
    "             4:[(4,7,0),(4,8,0)],\n",
    "             5:[(5,3,0),(5,7,0)],\n",
    "             6:[(6,3,0),(6,8,0)],\n",
    "             7:[(7,2,0),(7,5,0),(7,4,0)],\n",
    "             8:[(8,4,0),(8,6,0),(8,7,0)]}\n",
    "BFS(adjlist,1)\n"
   ]
  },
  {
   "cell_type": "markdown",
   "id": "60f901f9",
   "metadata": {},
   "source": [
    "### BST"
   ]
  },
  {
   "cell_type": "code",
   "execution_count": 1,
   "id": "0d7ebc53",
   "metadata": {},
   "outputs": [
    {
     "name": "stdout",
     "output_type": "stream",
     "text": [
      "1\n",
      "2\n",
      "3\n",
      "4\n",
      "5\n",
      "6\n",
      "7\n",
      "8\n",
      "9\n"
     ]
    }
   ],
   "source": [
    "class node:\n",
    "    def __init__(self,data):\n",
    "        self.value=data\n",
    "        self.left=None\n",
    "        self.right=None\n",
    "        \n",
    "def BST(root,value):\n",
    "    if root==None:\n",
    "        return node(value)\n",
    "        \n",
    "    if value<root.value:\n",
    "        root.left=BST(root.left,value)\n",
    "    if value>root.value:\n",
    "        root.right= BST(root.right,value)\n",
    "        \n",
    "    return root\n",
    "\n",
    "\n",
    "def inorder(root):\n",
    "    if root:\n",
    "        inorder(root.left)\n",
    "        print(root.value)\n",
    "        inorder(root.right)\n",
    "\n",
    "    \n",
    "l=[4,6,7,3,8,2,5,9,1]       \n",
    "root=node(l.pop(0))\n",
    "for i in l:\n",
    "    BST(root,i)\n",
    "\n",
    "inorder(root)"
   ]
  },
  {
   "cell_type": "markdown",
   "id": "21c89d06",
   "metadata": {},
   "source": [
    "### balance factor = |LH-RH| < 2"
   ]
  },
  {
   "cell_type": "code",
   "execution_count": null,
   "id": "8ebf83ea",
   "metadata": {},
   "outputs": [],
   "source": [
    "\n"
   ]
  }
 ],
 "metadata": {
  "kernelspec": {
   "display_name": "Python 3 (ipykernel)",
   "language": "python",
   "name": "python3"
  },
  "language_info": {
   "codemirror_mode": {
    "name": "ipython",
    "version": 3
   },
   "file_extension": ".py",
   "mimetype": "text/x-python",
   "name": "python",
   "nbconvert_exporter": "python",
   "pygments_lexer": "ipython3",
   "version": "3.11.5"
  }
 },
 "nbformat": 4,
 "nbformat_minor": 5
}
