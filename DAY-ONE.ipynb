{
 "cells": [
  {
   "cell_type": "markdown",
   "id": "8b21e9a6",
   "metadata": {},
   "source": [
    "### SPORTS EQUIPMENT RENTAL SYSTEM POC"
   ]
  },
  {
   "cell_type": "code",
   "execution_count": 1,
   "id": "20a16fef",
   "metadata": {},
   "outputs": [],
   "source": [
    "# bat,racket,football,volleyball,basketball each item has 10 atleast\n",
    "#1) CRUD for ()\n",
    "#2) RENTING (USN CODE,NAME,EID,T_Borrow,T_Return)\n",
    "#3)track_equipment_return(return_id)"
   ]
  },
  {
   "cell_type": "code",
   "execution_count": 16,
   "id": "192ca795",
   "metadata": {},
   "outputs": [
    {
     "name": "stdout",
     "output_type": "stream",
     "text": [
      "slno\t\t equipment\t quantity\t  condition\t  status\t\n",
      "01\t\t bat ball\t 5\t\t  good\t\t  available\n",
      "02\t\t football\t 5\t\t  not good\t  available\n",
      "03\t\t volleyball\t 5\t\t  good\t\t  available\n",
      "04\t\t basketball\t 5\t\t  good\t\t  avaiable\n",
      "05\t\t racket\t\t 5\t\t  good\t\t  available\n"
     ]
    }
   ],
   "source": [
    "print(\"slno\\t\\t equipment\\t quantity\\t  condition\\t  status\\t\")\n",
    "print(\"01\\t\\t bat ball\\t 5\\t\\t  good\\t\\t  available\")\n",
    "print(\"02\\t\\t football\\t 5\\t\\t  not good\\t  available\")\n",
    "print(\"03\\t\\t volleyball\\t 5\\t\\t  good\\t\\t  available\")\n",
    "print(\"04\\t\\t basketball\\t 5\\t\\t  good\\t\\t  avaiable\")\n",
    "print(\"05\\t\\t racket\\t\\t 5\\t\\t  good\\t\\t  available\")"
   ]
  },
  {
   "cell_type": "code",
   "execution_count": 1,
   "id": "9a7ee0d3",
   "metadata": {},
   "outputs": [],
   "source": [
    "def create():\n",
    "    print(\"slno\\t\\t equipment\\t quantity\\t  condition\\t  status\\t\")\n",
    "    print(\"01\\t\\t bat ball\\t 5\\t\\t  good\\t\\t  available\")\n",
    "    print(\"02\\t\\t football\\t 5\\t\\t  not good\\t  available\")\n",
    "    print(\"03\\t\\t volleyball\\t 5\\t\\t  good\\t\\t  available\")\n",
    "    print(\"04\\t\\t basketball\\t 5\\t\\t  good\\t\\t  avaiable\")\n",
    "    print(\"05\\t\\t racket\\t\\t 5\\t\\t  good\\t\\t  available\")\n",
    "    "
   ]
  },
  {
   "cell_type": "code",
   "execution_count": 2,
   "id": "7000ba83",
   "metadata": {},
   "outputs": [
    {
     "name": "stdout",
     "output_type": "stream",
     "text": [
      "slno\t\t equipment\t quantity\t  condition\t  status\t\n",
      "01\t\t bat ball\t 5\t\t  good\t\t  available\n",
      "02\t\t football\t 5\t\t  not good\t  available\n",
      "03\t\t volleyball\t 5\t\t  good\t\t  available\n",
      "04\t\t basketball\t 5\t\t  good\t\t  avaiable\n",
      "05\t\t racket\t\t 5\t\t  good\t\t  available\n"
     ]
    }
   ],
   "source": [
    "create();\n"
   ]
  },
  {
   "cell_type": "code",
   "execution_count": 3,
   "id": "16550d86",
   "metadata": {},
   "outputs": [],
   "source": [
    "#there's a election and it has EVM and there are 6 candidates now there is a  list in the backend and as sson as the evote is done it is appended to the list and at lasts count the winner"
   ]
  },
  {
   "cell_type": "markdown",
   "id": "51c9611a",
   "metadata": {},
   "source": [
    "## election problem"
   ]
  },
  {
   "cell_type": "code",
   "execution_count": 1,
   "id": "8891c873",
   "metadata": {},
   "outputs": [
    {
     "name": "stdout",
     "output_type": "stream",
     "text": [
      "[0, 0, 0, 0, 0, 0]\n",
      "2 [0, 1, 0, 0, 0, 0]\n",
      "4 [0, 1, 0, 1, 0, 0]\n",
      "3 [0, 1, 1, 1, 0, 0]\n",
      "1 [1, 1, 1, 1, 0, 0]\n",
      "6 [1, 1, 1, 1, 0, 1]\n",
      "5 [1, 1, 1, 1, 1, 1]\n",
      "2 [1, 2, 1, 1, 1, 1]\n",
      "3 [1, 2, 2, 1, 1, 1]\n",
      "4 [1, 2, 2, 2, 1, 1]\n",
      "1 [2, 2, 2, 2, 1, 1]\n",
      "5 [2, 2, 2, 2, 2, 1]\n",
      "6 [2, 2, 2, 2, 2, 2]\n",
      "final count=  [2, 2, 2, 2, 2, 2]\n",
      "2\n"
     ]
    }
   ],
   "source": [
    "#vote=list(map(int,input(\"enter vote:\").split(' ')))\n",
    "vote = [2,4,3,1,6,5,2,3,4,1,5,6]\n",
    "count=[0]*6\n",
    "print(count)\n",
    "for i in vote:\n",
    "    count[i-1]=count[i-1]+1\n",
    "    print(i,count)\n",
    "print(\"final count= \",count)\n",
    "print(max(count))"
   ]
  },
  {
   "cell_type": "markdown",
   "id": "16506739",
   "metadata": {},
   "source": [
    "# FILE HANDLING"
   ]
  },
  {
   "cell_type": "code",
   "execution_count": 4,
   "id": "0c1251b3",
   "metadata": {},
   "outputs": [],
   "source": [
    "import os\n",
    "with open(\"shm.txt\",\"w\") as f:\n",
    "    f.write(\"hi im sahana\")\n",
    "    f.write(\"\\n my USN is 3BR21AI092.\")\n",
    "    f.write(\"\\n This is the first day of the tech training!!\\n\")\n",
    "    f.close()"
   ]
  },
  {
   "cell_type": "code",
   "execution_count": 5,
   "id": "c137b816",
   "metadata": {},
   "outputs": [],
   "source": [
    "# write mode will create file if one doesnt exist but this is not the case with read and append"
   ]
  },
  {
   "cell_type": "code",
   "execution_count": 6,
   "id": "851b71e9",
   "metadata": {},
   "outputs": [
    {
     "name": "stdout",
     "output_type": "stream",
     "text": [
      "hi im sahana\n",
      " my USN is 3BR21AI092.\n",
      " This is the first day of the tech training!!\n",
      "\n"
     ]
    }
   ],
   "source": [
    "with open(\"shm.txt\",\"r\") as f:\n",
    "    print(f.read())\n",
    "    f.close()"
   ]
  },
  {
   "cell_type": "code",
   "execution_count": 7,
   "id": "97254a18",
   "metadata": {},
   "outputs": [],
   "source": [
    "with open(\"shm.txt\",\"a\") as f:\n",
    "    f.write(\"ok BYEE!!!\")\n",
    "    f.close()"
   ]
  },
  {
   "cell_type": "code",
   "execution_count": 9,
   "id": "5be23815",
   "metadata": {},
   "outputs": [
    {
     "name": "stdout",
     "output_type": "stream",
     "text": [
      "hi im sahana\n",
      " my USN is 3BR21AI092.\n",
      " This is the first day of the tech training!!\n",
      "ok BYEE!!!\n",
      "hi im sahana\n",
      " my USN is 3BR21AI092.\n",
      " This is the first day of the tech training!!\n",
      "ok HIII!!!\n"
     ]
    }
   ],
   "source": [
    "with open(\"shm.txt\",\"r\")as f:\n",
    "    s=f.read()\n",
    "    print(s)\n",
    "    f.close()\n",
    "s=s.replace(\"BYEE\",\"HIII\")\n",
    "print(s)\n",
    "\n",
    "with open(\"shm.txt\",\"w\")as f:\n",
    "    f.write(s)\n",
    "    f.close()"
   ]
  },
  {
   "cell_type": "markdown",
   "id": "35067aa5",
   "metadata": {},
   "source": [
    "## TELL-SEEK METHOD\n",
    "\n"
   ]
  },
  {
   "cell_type": "code",
   "execution_count": 18,
   "id": "af1544af",
   "metadata": {},
   "outputs": [],
   "source": [
    "# #MOVE CURSORS IN THE FILE\n",
    "# FOR SEEK if you give seek second parameter as 0 it points at the starting position and\n",
    "# if u give 1 it points at the current position\n",
    "# if u give 2 and -value it points from the last and reverse way it comes to the position specicfied in the first paramater\n",
    "# utf-universal text format\n",
    "#TELL- to give the location of the cursor\n",
    "#in binary mode only it works"
   ]
  },
  {
   "cell_type": "code",
   "execution_count": 19,
   "id": "4bcffd14",
   "metadata": {},
   "outputs": [],
   "source": [
    "#to write anythhing in between text "
   ]
  },
  {
   "cell_type": "code",
   "execution_count": 20,
   "id": "906029ef",
   "metadata": {},
   "outputs": [
    {
     "name": "stdout",
     "output_type": "stream",
     "text": [
      "0\n",
      "60\n",
      "of the tech training!!\r\n",
      "ok HIII!!!\n"
     ]
    }
   ],
   "source": [
    "with open(\"shm.txt\",'r+b')as f:\n",
    "    print(f.tell())\n",
    "    f.seek(-35,2)\n",
    "    print(f.tell())\n",
    "    f.write(b\"#\")\n",
    "    print(f.read().decode('utf-8'))\n",
    "    f.close()"
   ]
  },
  {
   "cell_type": "markdown",
   "id": "d1f282c6",
   "metadata": {},
   "source": [
    "## to delete a file"
   ]
  },
  {
   "cell_type": "code",
   "execution_count": 21,
   "id": "59ea6dc0",
   "metadata": {},
   "outputs": [],
   "source": [
    "os.remove(\"newfil.txt\")"
   ]
  },
  {
   "cell_type": "markdown",
   "id": "f6f0e77a",
   "metadata": {},
   "source": [
    "## using filesystem execute the sports rental system"
   ]
  },
  {
   "cell_type": "code",
   "execution_count": 55,
   "id": "d4f2b71c",
   "metadata": {},
   "outputs": [],
   "source": [
    "import os\n",
    "with open(\"filesport.txt\",\"wb\") as file:\n",
    "    eid=1\n",
    "    name=\"bat\"\n",
    "    condition=\"good\"\n",
    "    status=\"available\"\n",
    "    s=f\"{eid},{name},{condition},{status}\\n\"\n",
    "    file.write(s.encode())\n",
    "    eid=2\n",
    "    name=\"racket\"\n",
    "    condition=\"worst\"\n",
    "    status=\"not available\"\n",
    "    s=f\"{eid},{name},{condition},{status}\\n\"\n",
    "    file.write(s.encode())\n",
    "    eid=3\n",
    "    name=\"football\"\n",
    "    condition=\"better\"\n",
    "    status=\"available\"\n",
    "    s=f\"{eid},{name},{condition},{status}\\n\"\n",
    "    file.write(s.encode())\n",
    "    eid=4\n",
    "    name=\"basketball\"\n",
    "    condition=\"best\"\n",
    "    status=\"available\"\n",
    "    s=f\"{eid},{name},{condition},{status}\\n\"\n",
    "    file.write(s.encode())\n",
    "    f.close()"
   ]
  },
  {
   "cell_type": "code",
   "execution_count": 56,
   "id": "7fd6a354",
   "metadata": {},
   "outputs": [
    {
     "name": "stdout",
     "output_type": "stream",
     "text": [
      "1,bat,good,available\n",
      "\n",
      "1,bat,best,available\n",
      "\n"
     ]
    }
   ],
   "source": [
    "with open(\"filesport.txt\",\"r\") as file:\n",
    "    s=file.readline()\n",
    "    print(s)\n",
    "    file.close()\n",
    "s=s.replace(\"good\",\"best\")\n",
    "print(s)\n",
    "    \n",
    "with open(\"filesport.txt\",\"w\") as file:\n",
    "    file.write(s)\n",
    "    file.close()"
   ]
  }
 ],
 "metadata": {
  "kernelspec": {
   "display_name": "Python 3 (ipykernel)",
   "language": "python",
   "name": "python3"
  },
  "language_info": {
   "codemirror_mode": {
    "name": "ipython",
    "version": 3
   },
   "file_extension": ".py",
   "mimetype": "text/x-python",
   "name": "python",
   "nbconvert_exporter": "python",
   "pygments_lexer": "ipython3",
   "version": "3.11.5"
  }
 },
 "nbformat": 4,
 "nbformat_minor": 5
}
