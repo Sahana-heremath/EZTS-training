{
 "cells": [
  {
   "cell_type": "markdown",
   "id": "1692e472",
   "metadata": {},
   "source": [
    "## GRAPH ALGORITHMS"
   ]
  },
  {
   "cell_type": "code",
   "execution_count": 1,
   "id": "f0744379",
   "metadata": {},
   "outputs": [],
   "source": [
    "#set of edges n vertices"
   ]
  },
  {
   "cell_type": "code",
   "execution_count": null,
   "id": "1310cfc7",
   "metadata": {},
   "outputs": [],
   "source": [
    "#we use dictionary of list of tuples(like adjacency list)\n",
    "#ex: [[(1,2,0),(1,3,0)],[(x,y,z),(x,m,z)]] here 1 is the source 2 is the dest and 0 is the weight \n",
    "#and next (1,3,0) is the next possible path from the source."
   ]
  },
  {
   "cell_type": "code",
   "execution_count": 2,
   "id": "4212a019",
   "metadata": {},
   "outputs": [],
   "source": [
    "#ideal graph is when num of edges and num of vertices are equal"
   ]
  },
  {
   "cell_type": "code",
   "execution_count": null,
   "id": "3dd749e4",
   "metadata": {},
   "outputs": [],
   "source": [
    "#numb of spanning trees are calculated as:\n",
    "# (num of edges)+------------+(n-1)"
   ]
  },
  {
   "cell_type": "markdown",
   "id": "3468ce28",
   "metadata": {},
   "source": [
    "### PRIMS ALGO (only for connected graphs)"
   ]
  },
  {
   "cell_type": "code",
   "execution_count": 1,
   "id": "123900c7",
   "metadata": {},
   "outputs": [
    {
     "name": "stdout",
     "output_type": "stream",
     "text": [
      "inf\n",
      "2 4 1\n",
      "(2, 4, 1)\n",
      "(4, 7, 3)\n",
      "(7, 10, 2)\n",
      "(4, 8, 3)\n",
      "(8, 1, 2)\n",
      "(2, 3, 4)\n",
      "(2, 6, 5)\n",
      "(4, 5, 6)\n",
      "(5, 9, 8)\n"
     ]
    }
   ],
   "source": [
    "Graph=[\n",
    "    [0,7,-1,-1,-1,-1,-1,2,-1,-1],\n",
    "    [7,0,4,1,-1,5,-1,-1,-1,-1],\n",
    "    [-1,4,0,-1,-1,-1,-1,8,-1,-1],\n",
    "    [-1,1,-1,0,6,8,3,3,-1,-1],\n",
    "    [-1,-1,-1,6,0,-1,-1,6,8,-1],\n",
    "    [-1,5,-1,8,-1,0,-1,-1,-1,-1],\n",
    "    [-1,-1,-1,3,-1,-1,0,-1,9,2],\n",
    "    [2,-1,8,3,6,-1,-1,0,-1,-1],\n",
    "    [-1,-1,-1,-1,8,-1,9,-1,0,-1],\n",
    "    [-1,-1,-1,-1,-1,-1,2,-1,-1,0]\n",
    "]\n",
    "visited=[False]*len(Graph)\n",
    "min=float('inf')\n",
    "x=y=-1\n",
    "print(min)\n",
    "for i in range(len(Graph)):\n",
    "    for j in range(len(Graph)):\n",
    "        if Graph[i][j]==0 or Graph[i][j]==-1:\n",
    "            continue\n",
    "        elif min>Graph[i][j]:     \n",
    "            min=Graph[i][j]\n",
    "            x=i\n",
    "            y=j\n",
    "print(x+1,y+1,min)\n",
    "visited[x]=True\n",
    "visited[y]=True\n",
    "mst=[]\n",
    "mst.append(tuple((x+1,y+1,min)))\n",
    "\n",
    "\n",
    "while False in visited:\n",
    "    min=float('inf')\n",
    "    for i in range(len(visited)):\n",
    "        if visited[i]==True:\n",
    "            for j in range(len(Graph)):\n",
    "                if Graph[i][j]==0 or Graph[i][j]==-1 or visited[j]==True:\n",
    "                    continue\n",
    "                elif min>Graph[i][j]:\n",
    "                    min=Graph[i][j]\n",
    "                    x=i\n",
    "                    y=j\n",
    "    visited[y]=True\n",
    "    mst.append(tuple((x+1,y+1,min)))\n",
    "    \n",
    "for i in mst:\n",
    "    print(i)"
   ]
  },
  {
   "cell_type": "markdown",
   "id": "b12da2c7",
   "metadata": {},
   "source": [
    "### kruskal's alg(for disconnected graphs)"
   ]
  },
  {
   "cell_type": "code",
   "execution_count": 3,
   "id": "8a7d4d40",
   "metadata": {},
   "outputs": [
    {
     "name": "stdout",
     "output_type": "stream",
     "text": [
      "inf\n",
      "2 4 1\n",
      "(2, 4, 1)\n",
      "(1, 8, 2)\n",
      "(7, 10, 2)\n",
      "(8, 1, 2)\n",
      "(10, 7, 2)\n",
      "(2, 3, 4)\n",
      "(2, 6, 5)\n",
      "(4, 5, 6)\n",
      "(5, 9, 8)\n"
     ]
    }
   ],
   "source": [
    "Graph=[\n",
    "    [0,7,-1,-1,-1,-1,-1,2,-1,-1],\n",
    "    [7,0,4,1,-1,5,-1,-1,-1,-1],\n",
    "    [-1,4,0,-1,-1,-1,-1,8,-1,-1],\n",
    "    [-1,1,-1,0,6,8,3,3,-1,-1],\n",
    "    [-1,-1,-1,6,0,-1,-1,6,8,-1],\n",
    "    [-1,5,-1,8,-1,0,-1,-1,-1,-1],\n",
    "    [-1,-1,-1,3,-1,-1,0,-1,9,2],\n",
    "    [2,-1,8,3,6,-1,-1,0,-1,-1],\n",
    "    [-1,-1,-1,-1,8,-1,9,-1,0,-1],\n",
    "    [-1,-1,-1,-1,-1,-1,2,-1,-1,0]\n",
    "]\n",
    "visited=[False]*len(Graph)\n",
    "min=float('inf')\n",
    "x=y=-1\n",
    "print(min)\n",
    "for i in range(len(Graph)):\n",
    "    for j in range(len(Graph)):\n",
    "        if Graph[i][j]==0 or Graph[i][j]==-1:\n",
    "            continue\n",
    "        elif min>Graph[i][j]:     \n",
    "            min=Graph[i][j]\n",
    "            x=i\n",
    "            y=j\n",
    "print(x+1,y+1,min)\n",
    "visited[x]=True\n",
    "visited[y]=True\n",
    "mst=[]\n",
    "mst.append(tuple((x+1,y+1,min)))\n",
    "\n",
    "\n",
    "while False in visited:\n",
    "    min=float('inf')   #TO FILL INFINITY TO ALL VERTICES\n",
    "    for i in range(len(visited)):\n",
    "        for j in range(len(Graph)):\n",
    "            if Graph[i][j]==0 or Graph[i][j]==-1 or visited[j]==True:\n",
    "                continue\n",
    "            elif min>Graph[i][j]:\n",
    "                min=Graph[i][j]\n",
    "                x=i\n",
    "                y=j\n",
    "    visited[y]=True\n",
    "    mst.append(tuple((x+1,y+1,min)))\n",
    "    \n",
    "for i in mst:\n",
    "    print(i)"
   ]
  },
  {
   "cell_type": "markdown",
   "id": "1c1aa3fc",
   "metadata": {},
   "source": [
    "## DIJKSTRA'S ALGO(will not work on negative loops)"
   ]
  },
  {
   "cell_type": "code",
   "execution_count": 2,
   "id": "d0f0642d",
   "metadata": {},
   "outputs": [
    {
     "name": "stdout",
     "output_type": "stream",
     "text": [
      "[0, 6, 10, 5, 8, 11, 8, 2, 16, 10]\n"
     ]
    }
   ],
   "source": [
    "G=[\n",
    "    [0,7,False,False,False,False,False,2,False,False],\n",
    "    [7,0,4,1,False,5,False,False,False,False],\n",
    "    [False,4,0,False,False,False,False,8,False,False],\n",
    "    [False,1,False,0,6,8,3,3,False,False],\n",
    "    [False,False,False,6,0,False,False,6,8,False],\n",
    "    [False,5,False,8,False,0,False,False,False,False],\n",
    "    [False,False,False,3,False,False,0,False,9,2],\n",
    "    [2,False,8,3,6,False,False,0,False,False],\n",
    "    [False,False,False,False,8,False,9,False,0,False],\n",
    "    [False,False,False,False,False,False,2,False,False,0]\n",
    "]\n",
    "temp={}\n",
    "for i in range(len(G)):\n",
    "    temp[i]=float(\"inf\")\n",
    "Dist=[float(\"inf\")]*len(G)\n",
    "\n",
    "temp[0]=0\n",
    "while len(temp)>0:\n",
    "    min_value=min(temp.values())\n",
    "    min_key=min(temp,key=temp.get)\n",
    "    temp.pop(min_key)\n",
    "    Dist[min_key]=min_value\n",
    "    for j in range(len(G[min_key])):\n",
    "        if G[min_key][j]!=False and G[min_key][j]!=0:\n",
    "            new_dist=min_value+G[min_key][j]\n",
    "            if j in temp.keys() and temp[j]>new_dist:\n",
    "                temp[j]=new_dist\n",
    "print(Dist)\n",
    "    "
   ]
  }
 ],
 "metadata": {
  "kernelspec": {
   "display_name": "Python 3 (ipykernel)",
   "language": "python",
   "name": "python3"
  },
  "language_info": {
   "codemirror_mode": {
    "name": "ipython",
    "version": 3
   },
   "file_extension": ".py",
   "mimetype": "text/x-python",
   "name": "python",
   "nbconvert_exporter": "python",
   "pygments_lexer": "ipython3",
   "version": "3.11.5"
  }
 },
 "nbformat": 4,
 "nbformat_minor": 5
}
