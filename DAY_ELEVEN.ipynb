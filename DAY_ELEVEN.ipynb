{
 "cells": [
  {
   "cell_type": "markdown",
   "id": "6bdbaf41",
   "metadata": {},
   "source": [
    "# GREEDY ALGORITHM"
   ]
  },
  {
   "cell_type": "markdown",
   "id": "73b79243",
   "metadata": {},
   "source": [
    "### 1.knapsack problem:\n"
   ]
  },
  {
   "cell_type": "code",
   "execution_count": 1,
   "id": "e85cde6a",
   "metadata": {},
   "outputs": [
    {
     "name": "stdout",
     "output_type": "stream",
     "text": [
      "price: 5,10,15,7,8,9,4\n",
      "weight: 1,3,5,4,1,3,2\n",
      "max wt of knap: 15\n",
      "[5.0]\n",
      "[5.0, 3.3333333333333335]\n",
      "[5.0, 3.3333333333333335, 3.0]\n",
      "[5.0, 3.3333333333333335, 3.0, 1.75]\n",
      "[5.0, 3.3333333333333335, 3.0, 1.75, 8.0]\n",
      "[5.0, 3.3333333333333335, 3.0, 1.75, 8.0, 3.0]\n",
      "[5.0, 3.3333333333333335, 3.0, 1.75, 8.0, 3.0, 2.0]\n",
      "51.0\n"
     ]
    }
   ],
   "source": [
    "price=list(map(float,input(\"price: \").split(',')))\n",
    "weight=list(map(float,input(\"weight: \").split(',')))\n",
    "profit=0\n",
    "max_weight=int(input(\"max wt of knap: \"))\n",
    "profit_ratio=[]\n",
    "for i in range(len(price)):\n",
    "    profit_ratio.append(price[i]/weight[i])\n",
    "    print(profit_ratio)\n",
    "while max_weight>0:\n",
    "    index=profit_ratio.index(max(profit_ratio))\n",
    "    max_weight-=weight[index]\n",
    "    profit+=price[index]\n",
    "    price.pop(index)\n",
    "    profit_ratio.pop(index)\n",
    "    weight.pop(index)\n",
    "       \n",
    "    \n",
    "print(profit)"
   ]
  },
  {
   "cell_type": "code",
   "execution_count": 7,
   "id": "98ab4370",
   "metadata": {},
   "outputs": [
    {
     "name": "stdout",
     "output_type": "stream",
     "text": [
      "400\n",
      "16\n"
     ]
    }
   ],
   "source": [
    "#lambda function\n",
    "\n",
    "def a(x):\n",
    "    return x*x\n",
    "# def b(x):\n",
    "#     return x-4\n",
    "\n",
    "B=lambda x: x-4\n",
    "\n",
    "print(a(20))\n",
    "print(B(20))"
   ]
  },
  {
   "cell_type": "code",
   "execution_count": null,
   "id": "c8d8063d",
   "metadata": {},
   "outputs": [],
   "source": [
    "#use of lambda function for easy way to the above problem\n",
    "\n",
    "\n",
    "sorted_list=sorted(L,key=lambda x:x[1],reverse=True) #using lambda for returning x[1] each time\n"
   ]
  },
  {
   "cell_type": "code",
   "execution_count": 1,
   "id": "cc82178b",
   "metadata": {},
   "outputs": [],
   "source": [
    "#ANOTHER SOLUTION"
   ]
  },
  {
   "cell_type": "code",
   "execution_count": null,
   "id": "90843c72",
   "metadata": {},
   "outputs": [],
   "source": [
    "P=[5,10,15,7,8,9,4]\n",
    "W=[1,3,5,4,1,3,2]\n",
    "p_w={}\n",
    "for i in range(len(p)):\n",
    "    p_w[i]=P[i]/W[i]\n",
    "print(p_w)\n"
   ]
  }
 ],
 "metadata": {
  "kernelspec": {
   "display_name": "Python 3 (ipykernel)",
   "language": "python",
   "name": "python3"
  },
  "language_info": {
   "codemirror_mode": {
    "name": "ipython",
    "version": 3
   },
   "file_extension": ".py",
   "mimetype": "text/x-python",
   "name": "python",
   "nbconvert_exporter": "python",
   "pygments_lexer": "ipython3",
   "version": "3.11.5"
  }
 },
 "nbformat": 4,
 "nbformat_minor": 5
}
