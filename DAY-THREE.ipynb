{
 "cells": [
  {
   "cell_type": "markdown",
   "id": "672a5075",
   "metadata": {},
   "source": [
    "### prime num"
   ]
  },
  {
   "cell_type": "code",
   "execution_count": 2,
   "id": "8a60b050",
   "metadata": {},
   "outputs": [
    {
     "name": "stdout",
     "output_type": "stream",
     "text": [
      "143\n",
      "invalid\n"
     ]
    }
   ],
   "source": [
    "flag=0\n",
    "m=int(input())\n",
    "if m<1:\n",
    "    flag=1\n",
    "elif m==1:\n",
    "    flag=0\n",
    "else:\n",
    "    for i in range(2,((m//2)+1)):\n",
    "        if m%i==0:\n",
    "            flag=1\n",
    "            break\n",
    "        \n",
    "if flag==0:\n",
    "    print(\"its valid\")\n",
    "else:\n",
    "    print(\"invalid\")"
   ]
  },
  {
   "cell_type": "code",
   "execution_count": 4,
   "id": "0ff412e5",
   "metadata": {},
   "outputs": [],
   "source": [
    "# any num which is divisible for a number is its half\n",
    "#i.e for 50 the min num which it is divisible is its half i.e 25\n",
    "#so its m//2+1 for efficient time i.e time complexity\n"
   ]
  },
  {
   "cell_type": "markdown",
   "id": "2d492a03",
   "metadata": {},
   "source": [
    "### fibonacci sequence"
   ]
  },
  {
   "cell_type": "code",
   "execution_count": 8,
   "id": "0626741c",
   "metadata": {},
   "outputs": [
    {
     "name": "stdout",
     "output_type": "stream",
     "text": [
      "5\n",
      "0\n",
      "1\n",
      "1\n",
      "2\n",
      "3\n"
     ]
    }
   ],
   "source": [
    "n=int(input())\n",
    "a=0\n",
    "b=1\n",
    "c=a+b\n",
    "if n==1:\n",
    "    print(a)\n",
    "elif n==2:\n",
    "    print(a)\n",
    "    print(b)\n",
    "else:\n",
    "    print(a)\n",
    "    print(b)\n",
    "    for i in range(2,n):\n",
    "        print(c)\n",
    "        a=b\n",
    "        b=c\n",
    "        c=a+b\n",
    "        \n",
    "        "
   ]
  },
  {
   "cell_type": "markdown",
   "id": "961c4cfb",
   "metadata": {},
   "source": [
    "### question-4"
   ]
  },
  {
   "cell_type": "code",
   "execution_count": 3,
   "id": "ea442344",
   "metadata": {},
   "outputs": [
    {
     "name": "stdout",
     "output_type": "stream",
     "text": [
      "11\n",
      "221\n",
      "(13, 12, True)\n"
     ]
    }
   ],
   "source": [
    "def check_prime(m):\n",
    "    flag=0\n",
    "    if m<1:\n",
    "        flag=1\n",
    "    elif m==1:\n",
    "        flag=0\n",
    "    else:\n",
    "        for i in range(2,((m//2)+1)):\n",
    "            if m%i==0:\n",
    "                flag=1\n",
    "                break\n",
    "        \n",
    "    if flag==0:\n",
    "        return 1\n",
    "    else:\n",
    "        return 0\n",
    "result=[]     \n",
    "N=int(input())\n",
    "flag=0\n",
    "k=N+1\n",
    "while flag<1:\n",
    "    flag=check_prime(k)\n",
    "    if flag==1:\n",
    "        result.append(k)\n",
    "    else:\n",
    "        k=k+1\n",
    "#print(result)\n",
    "\n",
    "sum=0\n",
    "for i in range(N+1,k):\n",
    "    sum+=i\n",
    "result.append(sum)\n",
    "\n",
    "\n",
    "p1=k\n",
    "flag=0\n",
    "k=p1+1\n",
    "while flag<1:\n",
    "    flag=check_prime(k)\n",
    "    if flag==1:\n",
    "        p2=k\n",
    "    else:\n",
    "        k=k+1\n",
    "p3=p1*p2\n",
    "print(p3)\n",
    "\n",
    "flag=check_prime(p3)\n",
    "if flag==0:\n",
    "    result.append(True)\n",
    "else:\n",
    "    result.append(False)\n",
    "prime_key=tuple(result)\n",
    "print(prime_key)"
   ]
  },
  {
   "cell_type": "code",
   "execution_count": null,
   "id": "cc1e653a",
   "metadata": {},
   "outputs": [],
   "source": []
  }
 ],
 "metadata": {
  "kernelspec": {
   "display_name": "Python 3 (ipykernel)",
   "language": "python",
   "name": "python3"
  },
  "language_info": {
   "codemirror_mode": {
    "name": "ipython",
    "version": 3
   },
   "file_extension": ".py",
   "mimetype": "text/x-python",
   "name": "python",
   "nbconvert_exporter": "python",
   "pygments_lexer": "ipython3",
   "version": "3.11.5"
  }
 },
 "nbformat": 4,
 "nbformat_minor": 5
}
