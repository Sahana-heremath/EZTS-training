{
 "cells": [
  {
   "cell_type": "code",
   "execution_count": 6,
   "id": "1e5e5520",
   "metadata": {},
   "outputs": [
    {
     "name": "stdout",
     "output_type": "stream",
     "text": [
      "[10, 20, 30, 40]\n",
      "40\n",
      "[10, 20, 30]\n",
      "3\n"
     ]
    }
   ],
   "source": [
    "class Stack:\n",
    "    def __init__(self):\n",
    "        self.items=[]\n",
    "    \n",
    "    def push(self,data):\n",
    "        self.items.append(data)\n",
    "    def pop(self):\n",
    "        return self.items.pop()\n",
    "    def size(self):\n",
    "        return len(self.items)\n",
    "    \n",
    "s=Stack()\n",
    "\n",
    "s.push(10)\n",
    "s.push(20)\n",
    "s.push(30)\n",
    "s.push(40)\n",
    "print(s.items)\n",
    "print(s.pop())\n",
    "print(s.items)\n",
    "print(s.size())"
   ]
  },
  {
   "cell_type": "markdown",
   "id": "12d757e5",
   "metadata": {},
   "source": [
    "### a student is given a task to create some mathematical expression for BODMAS .But due to some other work he forgot to do that but in the night he clicked that he have to create some expressions for BODMAS due to sleepy mood he did some mistake while putting the brackets.your job is to check whether the expression given by that boy is valid or not. SAMPLE IP: [3+7{52/11(3+5) } ] valid expr as all the brackets are properly open and close. [4-6{235(9+6) ]. Invalid expression as some brackets are not proper."
   ]
  },
  {
   "cell_type": "code",
   "execution_count": 31,
   "id": "a7139cfd",
   "metadata": {},
   "outputs": [
    {
     "name": "stdout",
     "output_type": "stream",
     "text": [
      "invalid\n",
      "0\n",
      "[]\n"
     ]
    }
   ],
   "source": [
    "e= \" [4-6{235(9+6)}]\"\n",
    "s=Stack()\n",
    "flag=0\n",
    "OB=\"[{(\"\n",
    "CB=\"]})\"\n",
    "for i in e:\n",
    "    if i in OB:\n",
    "        s.push(i)\n",
    "    if i in CB:\n",
    "        x=s.pop()\n",
    "        if x==\"(\" and i ==\")\":\n",
    "            pass\n",
    "        elif x==\"{\" and i==\"}\":\n",
    "            pass\n",
    "        elif x==\"[\" and i==\"]\":\n",
    "            pass \n",
    "        else:\n",
    "            flag=1\n",
    "            break\n",
    "if flag==0 and s.size()==0:\n",
    "    print(\"valid\")\n",
    "else:\n",
    "    print(\"invalid\")\n",
    "print(s.size())"
   ]
  },
  {
   "cell_type": "markdown",
   "id": "dd7268f8",
   "metadata": {},
   "source": [
    "### question  i/p: [3,5,2,14,5,3,7,9,4,6,9,4,2,5,3] and o/p: [5,14,14,-1,7,7,9,-1,9,9,-1,5,5,-1,-1]"
   ]
  },
  {
   "cell_type": "code",
   "execution_count": 6,
   "id": "361cb419",
   "metadata": {},
   "outputs": [],
   "source": []
  },
  {
   "cell_type": "code",
   "execution_count": 1,
   "id": "3b6a7a36",
   "metadata": {},
   "outputs": [
    {
     "name": "stdout",
     "output_type": "stream",
     "text": [
      "[5, 14, 14, -1, 7, 7, 9, -1, 6, 9, -1, 5, 5, -1, -1]\n"
     ]
    }
   ],
   "source": [
    "class Stack:\n",
    "    def __init__(self):\n",
    "        self.items = []\n",
    "    def push(self,data):\n",
    "        self.items.append(data)\n",
    "    def pop(self):\n",
    "        return self.items.pop()\n",
    "    def size(self):\n",
    "        return len(self.items)\n",
    "    def top(self):\n",
    "        return self.items[-1]\n",
    "\n",
    "        \n",
    "L= [3,5,2,14,5,3,7,9,4,6,9,4,2,5,3]\n",
    "O=[0]*len(L)\n",
    "s= Stack()\n",
    "for i in range(len(L)-1,-1,-1):\n",
    "    if s.size() != 0:\n",
    "        while s.size() !=0 and s.top()<=L[i]:\n",
    "            if s.top() <= L[i]:\n",
    "                s.pop()\n",
    "    if s.size() == 0:\n",
    "        O[i]=-1\n",
    "    else:\n",
    "        O[i]=s.top()\n",
    "    s.push(L[i])\n",
    "print(O)"
   ]
  },
  {
   "cell_type": "code",
   "execution_count": 4,
   "id": "c9c50903",
   "metadata": {},
   "outputs": [],
   "source": [
    "class Queue:\n",
    "    def __init__(self):\n",
    "        self.item=[]\n",
    "    def push(self,data):\n",
    "        self.items.append(data)\n",
    "    def pop(self):\n",
    "        return self.items.pop(0)\n",
    "    def size(self):\n",
    "        return len(self.item)\n",
    "    "
   ]
  },
  {
   "cell_type": "code",
   "execution_count": 2,
   "id": "9cbb6b66",
   "metadata": {},
   "outputs": [
    {
     "data": {
      "text/plain": [
       "97.65625"
      ]
     },
     "execution_count": 2,
     "metadata": {},
     "output_type": "execute_result"
    }
   ],
   "source": [
    "100000/1024"
   ]
  },
  {
   "cell_type": "markdown",
   "id": "659bdbec",
   "metadata": {},
   "source": [
    "### LINKED LIST"
   ]
  },
  {
   "cell_type": "markdown",
   "id": "5e8f96e0",
   "metadata": {},
   "source": [
    "###### for dynamic memory allocation,"
   ]
  },
  {
   "cell_type": "code",
   "execution_count": 7,
   "id": "74946505",
   "metadata": {
    "scrolled": true
   },
   "outputs": [
    {
     "name": "stdout",
     "output_type": "stream",
     "text": [
      "<__main__.Node object at 0x000001E231DBBF10>\n",
      "<__main__.Node object at 0x000001E231DC9310>\n",
      "<__main__.Node object at 0x000001E231DC9310>\n"
     ]
    }
   ],
   "source": [
    "class Node:\n",
    "    def __init__(self,data):\n",
    "        self.value=data\n",
    "        self.next=None\n",
    "\n",
    "Head=Tail=Node(10)\n",
    "\n",
    "\n",
    "Tail.next=Node(20)\n",
    "Tail=Tail.next\n",
    "\n",
    "Tail.next=Node(30)\n",
    "Tail=Tail.next\n",
    "\n",
    "Tail.next=Node(30)\n",
    "Tail=Tail.next\n",
    "\n",
    "print(Head)\n",
    "print(Tail)\n",
    "print(Head.next.next.next)\n"
   ]
  },
  {
   "cell_type": "code",
   "execution_count": 8,
   "id": "a4323a4d",
   "metadata": {},
   "outputs": [
    {
     "name": "stdout",
     "output_type": "stream",
     "text": [
      "10\n",
      "20\n",
      "30\n",
      "30\n"
     ]
    }
   ],
   "source": [
    "def print_link_list(Head):\n",
    "    if Head==None:\n",
    "        print(\"list is empty\")\n",
    "        return\n",
    "    curr=Head\n",
    "    \n",
    "    while curr!=None:\n",
    "        print(curr.value)\n",
    "        curr=curr.next\n",
    "        \n",
    "print_link_list(Head)"
   ]
  },
  {
   "cell_type": "code",
   "execution_count": 2,
   "id": "c2dd844b",
   "metadata": {},
   "outputs": [],
   "source": [
    "class Linked_list:\n",
    "    \n",
    "    def __init__(self,data):\n",
    "        self.value=data\n",
    "        self.next=None\n",
    "    \n",
    "    def insert_front(node):\n",
    "        if Head==None:\n",
    "            print(\"list is empty\")\n",
    "        curr=Head\n",
    "         \n",
    "        if Head!=None:\n",
    "            Temp.next=Head\n",
    "            Head=Temp\n",
    "            \n",
    "    def insert_end():\n",
    "        Tail.next=Temp\n",
    "        Tail=Temp\n",
    "        \n",
    "    def insert_mid():\n",
    "        Temp.next=curr.next\n",
    "        curr.next=Temp\n",
    "        \n",
    "    def del_front(self):\n",
    "        head=head.next\n",
    "    \n",
    "    def del_end(self):\n",
    "        while curr.next.next!=None\n",
    "        curr.next=tail\n",
    "    \n",
    "    def del_mid(self):\n",
    "        \n",
    "        \n",
    "        \n",
    "\n",
    "        \n",
    "        "
   ]
  },
  {
   "cell_type": "code",
   "execution_count": null,
   "id": "aa38f3b2",
   "metadata": {},
   "outputs": [],
   "source": []
  },
  {
   "cell_type": "code",
   "execution_count": null,
   "id": "dd9735ea",
   "metadata": {},
   "outputs": [],
   "source": [
    "e= \" [4-6{235(9+6)}]\"\n",
    "s=Stack()\n",
    "flag=0\n",
    "OB=\"[{(\"\n",
    "CB=\"]})\"\n",
    "for i in e:\n",
    "    if i in OB:\n",
    "        s.push(i)\n",
    "    if i in CB:\n",
    "        x=s.pop()\n",
    "        if x==\"(\" and i ==\")\":\n",
    "            pass\n",
    "        elif x==\"{\" and i==\"}\":\n",
    "            pass\n",
    "        elif x==\"[\" and i==\"]\":\n",
    "            pass \n",
    "        else:\n",
    "            flag=1\n",
    "            break\n",
    "if flag==0 and s.size()==0:\n",
    "    print(\"valid\")\n",
    "else:\n",
    "    print(\"invalid\")\n",
    "print(s.size())"
   ]
  },
  {
   "cell_type": "code",
   "execution_count": null,
   "id": "217b1cff",
   "metadata": {},
   "outputs": [],
   "source": []
  },
  {
   "cell_type": "code",
   "execution_count": null,
   "id": "7ead7f49",
   "metadata": {},
   "outputs": [],
   "source": [
    "class calc:\n",
    "    for i in s:\n",
    "        if i in s:\n",
    "        switch(ch):\n",
    "            if ch=='+':\n",
    "                sum(a,b)\n",
    "            elif ch=='-':\n",
    "                diff(a,b)\n",
    "            elif ch=='*':\n",
    "                mul(a,b)\n",
    "            elif ch=='/':\n",
    "                div(a,b)\n",
    "            elif ch==''"
   ]
  },
  {
   "cell_type": "code",
   "execution_count": null,
   "id": "04058bd1",
   "metadata": {},
   "outputs": [],
   "source": [
    "s=input()\n",
    "op=[\"+\",\"-\",\"*\",\"/\"]\n",
    "for i in s:\n",
    "    if i in op:\n",
    "        x=i\n",
    "        s.replace(i,\" \")\n",
    "    L=list(map(float,s.split(\" \")))\n",
    "    match x:\n",
    "        case '+':print(sum(L))\n",
    "        case '-':print(\"sub\")\n",
    "        case _ : print(\"default\")\n",
    "            \n",
    "    print(x)"
   ]
  },
  {
   "cell_type": "code",
   "execution_count": null,
   "id": "5839b86e",
   "metadata": {},
   "outputs": [],
   "source": []
  },
  {
   "cell_type": "code",
   "execution_count": 5,
   "id": "ec475c24",
   "metadata": {},
   "outputs": [
    {
     "name": "stdout",
     "output_type": "stream",
     "text": [
      "4\n"
     ]
    }
   ],
   "source": [
    "print(eval(\"2+2\"))"
   ]
  },
  {
   "cell_type": "code",
   "execution_count": 6,
   "id": "11936096",
   "metadata": {},
   "outputs": [
    {
     "name": "stdout",
     "output_type": "stream",
     "text": [
      "14\n"
     ]
    }
   ],
   "source": [
    "print(eval(\"2+3*4\"))"
   ]
  },
  {
   "cell_type": "code",
   "execution_count": 7,
   "id": "7f866e86",
   "metadata": {},
   "outputs": [
    {
     "data": {
      "text/plain": [
       "8.0262"
      ]
     },
     "execution_count": 7,
     "metadata": {},
     "output_type": "execute_result"
    }
   ],
   "source": [
    "eval(\"2.34*3.43\")"
   ]
  },
  {
   "cell_type": "code",
   "execution_count": 2,
   "id": "2006b525",
   "metadata": {},
   "outputs": [
    {
     "name": "stdout",
     "output_type": "stream",
     "text": [
      "2+2\n",
      "4.0\n"
     ]
    }
   ],
   "source": [
    "#Basic Calculator \n",
    "\n",
    "s=input()\n",
    "OP=['+','-','*','/']\n",
    "for i in s:\n",
    "    if i in OP:\n",
    "        x=i\n",
    "        s=s.replace(x,\" \")\n",
    "\n",
    "l=list(map(float,s.split()))\n",
    "\n",
    "match x:\n",
    "    case '+': print(l[0]+l[1])\n",
    "    case '-': print(l[0]-l[1])\n",
    "    case '*': print(l[0]*l[1])\n",
    "    case '/': print(l[0]/l[1])\n",
    "    case _ : print(\"Invalid Operator\")"
   ]
  }
 ],
 "metadata": {
  "kernelspec": {
   "display_name": "Python 3 (ipykernel)",
   "language": "python",
   "name": "python3"
  },
  "language_info": {
   "codemirror_mode": {
    "name": "ipython",
    "version": 3
   },
   "file_extension": ".py",
   "mimetype": "text/x-python",
   "name": "python",
   "nbconvert_exporter": "python",
   "pygments_lexer": "ipython3",
   "version": "3.11.5"
  }
 },
 "nbformat": 4,
 "nbformat_minor": 5
}
