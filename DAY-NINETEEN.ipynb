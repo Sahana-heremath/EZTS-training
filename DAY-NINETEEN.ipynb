{
 "cells": [
  {
   "cell_type": "markdown",
   "id": "e61c2699",
   "metadata": {},
   "source": [
    "### HEAP"
   ]
  },
  {
   "cell_type": "markdown",
   "id": "0b3c7b47",
   "metadata": {},
   "source": [
    "### remove function"
   ]
  },
  {
   "cell_type": "code",
   "execution_count": 19,
   "id": "22241b57",
   "metadata": {},
   "outputs": [
    {
     "name": "stdout",
     "output_type": "stream",
     "text": [
      "0\n",
      "1\n",
      "2\n",
      "3\n",
      "4\n",
      "5\n",
      "\n",
      "4\n",
      "5\n"
     ]
    }
   ],
   "source": [
    "l=[1,2,3,4,5,6]\n",
    "\n",
    "for i in range(len(l)):\n",
    "    print(l.index(i+1))\n",
    "l.remove(5)\n",
    "print()\n",
    "print(l.index(i+1))\n",
    "\n",
    "print(i)\n",
    "[6]"
   ]
  },
  {
   "cell_type": "code",
   "execution_count": 4,
   "id": "c0c97b6d",
   "metadata": {},
   "outputs": [
    {
     "name": "stdout",
     "output_type": "stream",
     "text": [
      "[2, 3, 4, 6]\n"
     ]
    }
   ],
   "source": [
    "import heapq\n",
    "l=[3,2,4,6]\n",
    "heapq.heapify(l)\n",
    "print(l)"
   ]
  },
  {
   "cell_type": "code",
   "execution_count": 6,
   "id": "937384c7",
   "metadata": {},
   "outputs": [],
   "source": [
    "# #heapify\n",
    "# heappop\n",
    "# heappush\n",
    "# heapreplace....etc etc functions of heapq"
   ]
  },
  {
   "cell_type": "code",
   "execution_count": 7,
   "id": "4a487632",
   "metadata": {},
   "outputs": [
    {
     "name": "stdout",
     "output_type": "stream",
     "text": [
      "[8, 6, 5, 2, 1, 3, 4]\n"
     ]
    }
   ],
   "source": [
    "import heapq\n",
    "l=[3,2,4,6,1,5,8]\n",
    "heapq._heapify_max(l) #it arranges in max heap\n",
    "print(l)"
   ]
  },
  {
   "cell_type": "code",
   "execution_count": 13,
   "id": "70b76dc1",
   "metadata": {},
   "outputs": [
    {
     "name": "stdout",
     "output_type": "stream",
     "text": [
      "[71, 65, 45, 30, 35, 42, 15, 20, 25]\n"
     ]
    }
   ],
   "source": [
    "import heapq\n",
    "# def insertion_heap(l,i):\n",
    "#     while i>0:\n",
    "#         if l[i]>l[i//2]:\n",
    "#             l[i//2]=l[i]\n",
    "#         else:\n",
    "#             break\n",
    "l=[20,25,15,30,35,42,45,71,65]\n",
    "heapq._heapify_max(l)\n",
    "\n",
    "print(l)\n",
    "# insertion_heap(l,i)"
   ]
  },
  {
   "cell_type": "code",
   "execution_count": null,
   "id": "a20bc2aa",
   "metadata": {},
   "outputs": [],
   "source": []
  }
 ],
 "metadata": {
  "kernelspec": {
   "display_name": "Python 3 (ipykernel)",
   "language": "python",
   "name": "python3"
  },
  "language_info": {
   "codemirror_mode": {
    "name": "ipython",
    "version": 3
   },
   "file_extension": ".py",
   "mimetype": "text/x-python",
   "name": "python",
   "nbconvert_exporter": "python",
   "pygments_lexer": "ipython3",
   "version": "3.11.5"
  }
 },
 "nbformat": 4,
 "nbformat_minor": 5
}
