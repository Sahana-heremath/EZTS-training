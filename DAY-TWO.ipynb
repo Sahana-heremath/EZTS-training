{
 "cells": [
  {
   "cell_type": "markdown",
   "id": "f305c5dc",
   "metadata": {},
   "source": [
    "### topics: datatypes,list,tuple,dict,if-else,loops"
   ]
  },
  {
   "cell_type": "markdown",
   "id": "61db618a",
   "metadata": {},
   "source": [
    "## OOPS"
   ]
  },
  {
   "cell_type": "markdown",
   "id": "78c8253d",
   "metadata": {},
   "source": [
    "### class and object"
   ]
  },
  {
   "cell_type": "markdown",
   "id": "4c079984",
   "metadata": {},
   "source": [
    "#### WAY-1"
   ]
  },
  {
   "cell_type": "code",
   "execution_count": 2,
   "id": "5023af6c",
   "metadata": {},
   "outputs": [
    {
     "name": "stdout",
     "output_type": "stream",
     "text": [
      "shm 20 f\n"
     ]
    }
   ],
   "source": [
    "class Student:\n",
    "    def __init__(self,name,age,gen):#underscore in the init specifies:- __:private , _:protected , no underscore:public\n",
    "        self.name = name\n",
    "        self.age =age\n",
    "        self.gen =gen\n",
    "\n",
    "#self:locate the current object of the class i.e it automatically it assigns with its object\n",
    "st1 = Student(\"shm\",20,\"f\")\n",
    "print(st1.name,st1.age,st1.gen)\n",
    "        \n",
    "        "
   ]
  },
  {
   "cell_type": "markdown",
   "id": "83ce8472",
   "metadata": {},
   "source": [
    "#### WAY-2"
   ]
  },
  {
   "cell_type": "code",
   "execution_count": 5,
   "id": "0c33d399",
   "metadata": {},
   "outputs": [
    {
     "name": "stdout",
     "output_type": "stream",
     "text": [
      "enter name:s\n",
      "enter age:2\n",
      "enter gender:f\n",
      "s 2 f\n"
     ]
    }
   ],
   "source": [
    "class STD:\n",
    "    def __init__(self,name,age,gender):\n",
    "        self.name = name\n",
    "        self.age=age\n",
    "        self.gender=gender\n",
    "        \n",
    "a=input(\"enter name:\")\n",
    "b=input(\"enter age:\")\n",
    "c=input(\"enter gender:\")\n",
    "st3=STD(a,b,c)\n",
    "\n",
    "print(st3.name,st3.age,st3.gender)"
   ]
  },
  {
   "cell_type": "markdown",
   "id": "0cf1a66e",
   "metadata": {},
   "source": [
    "### NOTE:topics to be studied formal and actual parameters, call by value and call by reference"
   ]
  },
  {
   "cell_type": "markdown",
   "id": "2d9358e9",
   "metadata": {},
   "source": [
    "#### WAY-3"
   ]
  },
  {
   "cell_type": "code",
   "execution_count": 9,
   "id": "eb4f5457",
   "metadata": {},
   "outputs": [
    {
     "name": "stdout",
     "output_type": "stream",
     "text": [
      "enter name:sahana\n",
      "enter age:12\n",
      "enter gender:f\n",
      "s 2 f\n",
      "<class '__main__.STUD'>\n"
     ]
    }
   ],
   "source": [
    "class STUD:\n",
    "    def __init__(self):\n",
    "        self.name = None\n",
    "        self.age=None\n",
    "        self.gender= None\n",
    "        \n",
    "st2=STUD()\n",
    "        \n",
    "st2.name=input(\"enter name:\")\n",
    "st2.age=input(\"enter age:\")\n",
    "st2.gender=input(\"enter gender:\")\n",
    "\n",
    "print(st3.name,st3.age,st3.gender)\n",
    "\n",
    "print(type(st2))"
   ]
  },
  {
   "cell_type": "markdown",
   "id": "19fe734d",
   "metadata": {},
   "source": [
    "### why do we get output as <class 'int'> bcz theres already a inbuilt class in python so from that class we get it "
   ]
  },
  {
   "cell_type": "code",
   "execution_count": 12,
   "id": "9e93fb34",
   "metadata": {},
   "outputs": [
    {
     "name": "stdout",
     "output_type": "stream",
     "text": [
      "<class 'int'>\n"
     ]
    }
   ],
   "source": [
    "a=1\n",
    "print(type(a))"
   ]
  },
  {
   "cell_type": "markdown",
   "id": "e503e116",
   "metadata": {},
   "source": [
    "## INHERITANCE and ABSTRACTION"
   ]
  },
  {
   "cell_type": "code",
   "execution_count": 15,
   "id": "77a16e1c",
   "metadata": {},
   "outputs": [
    {
     "name": "stdout",
     "output_type": "stream",
     "text": [
      "this is class A function 1\n",
      "this is class A function 3\n",
      "this is class B \n"
     ]
    }
   ],
   "source": [
    "class A:\n",
    "    def fun1(self):\n",
    "        print(\"this is class A function 1\")\n",
    "    def fun3(self):\n",
    "        print(\"this is class A function 3\")\n",
    "class B:\n",
    "    def fun2(self):\n",
    "        print(\"this is class B \")\n",
    "ob1=A()\n",
    "ob2=B()\n",
    " \n",
    "ob1.fun1()\n",
    "ob1.fun3()\n",
    "ob2.fun2()"
   ]
  },
  {
   "cell_type": "code",
   "execution_count": 19,
   "id": "97831640",
   "metadata": {},
   "outputs": [
    {
     "name": "stdout",
     "output_type": "stream",
     "text": [
      "this is class A function 1\n",
      "this is class A function 3\n",
      "this is class B \n",
      "this is class A function 1\n"
     ]
    }
   ],
   "source": [
    "class A:\n",
    "    def fun1(self):\n",
    "        print(\"this is class A function 1\")\n",
    "    def fun3(self):\n",
    "        print(\"this is class A function 3\")\n",
    "class B(A):\n",
    "    def fun2(self):\n",
    "        print(\"this is class B \")\n",
    "ob1=A()\n",
    "ob2=B()\n",
    " \n",
    "ob1.fun1()\n",
    "ob1.fun3()\n",
    "ob2.fun2()\n",
    "ob2.fun1()#deriving class A method in class B"
   ]
  },
  {
   "cell_type": "code",
   "execution_count": 23,
   "id": "a4a6a263",
   "metadata": {},
   "outputs": [
    {
     "name": "stdout",
     "output_type": "stream",
     "text": [
      "2\n",
      "5\n",
      "None\n"
     ]
    }
   ],
   "source": [
    "class A:\n",
    "    def __init__(self,a,b):\n",
    "        self.A=a\n",
    "        self.__B=b\n",
    "    def printB(self):\n",
    "        print(self.__B)\n",
    "\n",
    "ob1=A(2,5)\n",
    "\n",
    "print(ob1.A)\n",
    "print(ob1.printB())\n",
    "#why none bcz its inside print function after printing 5 so it returns none"
   ]
  },
  {
   "cell_type": "markdown",
   "id": "bc474f62",
   "metadata": {},
   "source": [
    "### create a stud class that holds the details of students like name,usn and the marks in 5 subjects percentae and grade. creeate 5 students object andd get the dataa for the usn,name and marks after that find perc and grade nd store it to the class object"
   ]
  },
  {
   "cell_type": "code",
   "execution_count": null,
   "id": "e0b34dc9",
   "metadata": {},
   "outputs": [
    {
     "name": "stdout",
     "output_type": "stream",
     "text": [
      "enter name:a\n",
      "enter usn:1\n",
      "enter marks:10,20,30,40,50\n",
      "a 1 [10, 20, 30, 40, 50]\n",
      "percentage: 30.0\n",
      "D\n",
      "enter name:b\n",
      "enter usn:2\n",
      "enter marks:90,80,70,60,50\n",
      "b 2 [90, 80, 70, 60, 50]\n",
      "percentage: 70.0\n",
      "c\n"
     ]
    }
   ],
   "source": [
    "class Student:\n",
    "    def __init__(self):\n",
    "        self.name=None\n",
    "        self.usn=None\n",
    "        self.marks=None\n",
    "        \n",
    "    for i in range(0,5):\n",
    "        name=input(\"enter name:\")\n",
    "        usn=input(\"enter usn:\")\n",
    "        marks=list(map(int,input(\"enter marks:\").split(',')))\n",
    "        print(name,usn,marks)\n",
    "        perc=((sum(marks)/500))*100\n",
    "        print(\"percentage:\",perc)\n",
    "        if(perc>90 and perc<=100):\n",
    "            print(\"A\")\n",
    "        elif(perc>=75 and perc<=90):\n",
    "            print(\"B\")\n",
    "        elif(perc>=50 and perc<75):\n",
    "            print(\"c\")\n",
    "        elif(perc<50):\n",
    "            print(\"D\")\n",
    "        else:\n",
    "            print(\"invalid\")\n",
    "\n",
    "st1=Student()\n"
   ]
  },
  {
   "cell_type": "markdown",
   "id": "f5db23ad",
   "metadata": {},
   "source": [
    "## proffessional way"
   ]
  },
  {
   "cell_type": "code",
   "execution_count": 2,
   "id": "51f60ddd",
   "metadata": {},
   "outputs": [
    {
     "name": "stdout",
     "output_type": "stream",
     "text": [
      "<class '__main__.Std'>\n",
      "Enter your Name: SAHANA\n",
      "Enter Your USN: 10\n",
      "Enter Your Marks in Sub1 : 100\n",
      "Enter Your Marks in Sub2 : 100\n",
      "Enter Your Marks in Sub3 : 80\n",
      "Enter Your Marks in Sub4 : 80\n",
      "Enter Your Marks in Sub5 : 70\n",
      "Name:  SAHANA\n",
      "USN :  10\n",
      "Marks in Five Subject are :\n",
      "Subject 1 = 100\n",
      "Subject 2 = 100\n",
      "Subject 3 = 80\n",
      "Subject 4 = 80\n",
      "Subject 5 = 70\n",
      "Percentage :  86.0\n",
      "Grade :  A\n"
     ]
    }
   ],
   "source": [
    "class Std:\n",
    "    def __init__(self): \n",
    "        self.__USN = None\n",
    "        self.__Name = None\n",
    "        self.__Marks = []\n",
    "        self.__Percentage = None\n",
    "        self.__Grade = None\n",
    "\n",
    "    def Std_Input(self):\n",
    "        self.__Name = input(\"Enter your Name: \")\n",
    "        self.__USN = input(\"Enter Your USN: \")\n",
    "        for i in range (0,5):\n",
    "            marks = input(f\"Enter Your Marks in Sub{i+1} : \")\n",
    "            self.__Marks.append(marks)\n",
    "\n",
    "    def calc_percentage (self):\n",
    "        sum = 0\n",
    "        for i in self.__Marks:\n",
    "            sum = sum + int(i)\n",
    "        self.__Percentage = (sum/500)*100\n",
    "\n",
    "    def calc_Grade(self):\n",
    "        per = float(self.__Percentage)\n",
    "        if per<=100 and per >=80:\n",
    "            self.__Grade = \"A\"\n",
    "        elif per<80 and per >=60:\n",
    "            self.__Grade = \"B\"\n",
    "        elif per<60 and per >=40:\n",
    "            self.__Grade = \"C\"\n",
    "        elif per<40 and per >=0:\n",
    "            self.__Grade = \"D\"\n",
    "        else: \n",
    "            self.__Grade = \"Inavlid\"\n",
    "\n",
    "    def print_details(self):\n",
    "        print(\"Name: \",self.__Name)\n",
    "        print(\"USN : \",self.__USN)\n",
    "        print(\"Marks in Five Subject are :\")\n",
    "        for i in range(0,5):\n",
    "            print(f\"Subject {i+1} = {self.__Marks[i]}\")\n",
    "        print(\"Percentage : \", self.__Percentage)\n",
    "        print(\"Grade : \", self.__Grade)\n",
    "\n",
    "    def convert_list(self):\n",
    "        st_list = [self.__USN,self.__Name,self.__Marks,self.__Percentage,self.__Grade]\n",
    "        return st_list\n",
    "\n",
    "    def covert_ob(self,stu_list):\n",
    "        self.__USN = stu_list[0]\n",
    "        self.__Name = stu_list[1]\n",
    "        self.__Marks = stu_list[2]\n",
    "        self.__Percentage = stu_list[3]\n",
    "        self.__Grade = stu_list[4]\n",
    "\n",
    "\n",
    "\n",
    "st1 = Std()\n",
    "\n",
    "print(type(st1))\n",
    "\n",
    "st1.Std_Input()\n",
    "\n",
    "st1.calc_percentage()\n",
    "st1.calc_Grade()\n",
    "\n",
    "st1.print_details()"
   ]
  },
  {
   "cell_type": "code",
   "execution_count": 6,
   "id": "c43933ec",
   "metadata": {},
   "outputs": [],
   "source": [
    "with open(\"student.txt\",'wb') as File:\n",
    "    L=st1.convert_list()\n",
    "    data = f\"{L[0]}|{L[1]}|{L[2][0]},{L[2][1]},{L[2][2]},{L[2][3]},{L[2][4]}|{L[3]}|{L[4]}\\n\"\n",
    "    File.write(data.encode())\n",
    "    File.close()"
   ]
  },
  {
   "cell_type": "code",
   "execution_count": 5,
   "id": "820b2d24",
   "metadata": {},
   "outputs": [
    {
     "name": "stdout",
     "output_type": "stream",
     "text": [
      "10|SAHANA|100,100,80,80,70|86.0|A\n",
      "\n",
      "['10', 'SAHANA', ['100', '100', '80', '80', '70'], '86.0', 'A\\n']\n",
      "Name:  SAHANA\n",
      "USN :  10\n",
      "Marks in Five Subject are :\n",
      "Subject 1 = 100\n",
      "Subject 2 = 100\n",
      "Subject 3 = 80\n",
      "Subject 4 = 80\n",
      "Subject 5 = 70\n",
      "Percentage :  86.0\n",
      "Grade :  A\n",
      "\n"
     ]
    }
   ],
   "source": [
    "stu_list=[]\n",
    "\n",
    "with open(\"student.txt\",'rb') as File:\n",
    "    data = File.readline().decode('utf-8')\n",
    "    print(data)\n",
    "    for i in data.split(\"|\"):\n",
    "        stu_list.append(i)\n",
    "    mrks=stu_list[2]\n",
    "    mrks_list = []\n",
    "    for i in mrks.split(','):\n",
    "        mrks_list.append(i)\n",
    "    stu_list[2]=mrks_list\n",
    "\n",
    "\n",
    "print(stu_list)\n",
    "st2=Std()\n",
    "st2.covert_ob(stu_list)\n",
    "st2.print_details()\n",
    "    "
   ]
  },
  {
   "cell_type": "markdown",
   "id": "020b5ab0",
   "metadata": {},
   "source": [
    "### sports rental pgm"
   ]
  },
  {
   "cell_type": "code",
   "execution_count": 2,
   "id": "1278d5a3",
   "metadata": {},
   "outputs": [
    {
     "name": "stdout",
     "output_type": "stream",
     "text": [
      "Enter EID : 1\n",
      "Enter equipment name: bat\n",
      "enter equipment condition: good\n",
      "enter equip status: available\n"
     ]
    }
   ],
   "source": [
    "class Sport:\n",
    "    def __init__(self): \n",
    "        self.__eid = None\n",
    "        self.__ename = None\n",
    "        self.__condition = None\n",
    "        self.__status = None\n",
    "        \n",
    "    def spt_input(self):\n",
    "        self.__eid = input(\"Enter EID : \")\n",
    "        self.__ename = input(\"Enter equipment name: \")\n",
    "        self.__condition = input(\"enter equipment condition: \")\n",
    "        self.__status= input(\"enter equip status: \")\n",
    "        \n",
    "    def print_details(self):\n",
    "        print(\"EID: \",self.__Name)\n",
    "        print(\"USN : \",self.__USN)\n",
    "        print(\"Marks in Five Subject are :\")\n",
    "        for i in range(0,5):\n",
    "            print(f\"Subject {i+1} = {self.__Marks[i]}\")\n",
    "        print(\"Percentage : \", self.__Percentage)\n",
    "        print(\"Grade : \", self.__Grade)\n",
    "        \n",
    "sp1=Sport()\n",
    "sp1.spt_input()"
   ]
  },
  {
   "cell_type": "markdown",
   "id": "f0da2008",
   "metadata": {},
   "source": [
    "### finding second large num in list"
   ]
  },
  {
   "cell_type": "code",
   "execution_count": 13,
   "id": "b113d740",
   "metadata": {},
   "outputs": [
    {
     "name": "stdout",
     "output_type": "stream",
     "text": [
      "5\n",
      "2 3 6 6 5\n",
      "5\n"
     ]
    }
   ],
   "source": [
    "n = int(input())\n",
    "arr = map(int, input().split())\n",
    "lis1=list(arr)\n",
    "mylist = list(dict.fromkeys(lis1))\n",
    "res=max(mylist)\n",
    "firstmax=mylist.remove(res)\n",
    "print(max(mylist))"
   ]
  }
 ],
 "metadata": {
  "kernelspec": {
   "display_name": "Python 3 (ipykernel)",
   "language": "python",
   "name": "python3"
  },
  "language_info": {
   "codemirror_mode": {
    "name": "ipython",
    "version": 3
   },
   "file_extension": ".py",
   "mimetype": "text/x-python",
   "name": "python",
   "nbconvert_exporter": "python",
   "pygments_lexer": "ipython3",
   "version": "3.11.5"
  }
 },
 "nbformat": 4,
 "nbformat_minor": 5
}
