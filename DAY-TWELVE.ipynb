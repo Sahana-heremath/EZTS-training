{
 "cells": [
  {
   "cell_type": "markdown",
   "id": "573262dd",
   "metadata": {},
   "source": [
    "### JOB SEQUENCING"
   ]
  },
  {
   "cell_type": "code",
   "execution_count": 4,
   "id": "f3d0625b",
   "metadata": {},
   "outputs": [
    {
     "name": "stdout",
     "output_type": "stream",
     "text": [
      "3\n"
     ]
    }
   ],
   "source": [
    "profit=[20,40,10,30,50]\n",
    "deadline=[2,1,2,3,1]\n",
    "target=max(deadline)\n",
    "print(target)"
   ]
  },
  {
   "cell_type": "code",
   "execution_count": 1,
   "id": "0c94785e",
   "metadata": {},
   "outputs": [],
   "source": [
    "#dynamic programming"
   ]
  },
  {
   "cell_type": "code",
   "execution_count": 18,
   "id": "ed4d938f",
   "metadata": {},
   "outputs": [
    {
     "data": {
      "text/plain": [
       "51"
      ]
     },
     "execution_count": 18,
     "metadata": {},
     "output_type": "execute_result"
    }
   ],
   "source": [
    "#knapsack using recursion\n",
    "def calc_max(p,w,c,n):\n",
    "    if n==0 or c==0:\n",
    "        return 0\n",
    "    if (w[n-1]>c):\n",
    "        return calc_max(p,w,c,n-1)\n",
    "    else:\n",
    "        return max((p[n-1]+calc_max(p,w,c-w[n-1],n-1),calc_max(p,w,c,n-1)))\n",
    "                   \n",
    "    \n",
    "\n",
    "p=[5,10,15,7,8,9,4]\n",
    "w=[1,3,5,4,1,3,2]\n",
    "c=15\n",
    "n=len(p)\n",
    "calc_max(p,w,c,n)\n",
    "\n",
    "    "
   ]
  },
  {
   "cell_type": "code",
   "execution_count": 1,
   "id": "13189d09",
   "metadata": {},
   "outputs": [
    {
     "name": "stdout",
     "output_type": "stream",
     "text": [
      "51\n",
      "[[-1, -1, -1, -1, -1, -1, -1, -1, -1, -1, -1, -1, -1, -1, -1, -1], [-1, 5, 5, 5, 5, 5, 5, 5, 5, 5, 5, 5, 5, 5, 5, 5], [-1, 5, 5, 10, 15, 15, 15, 15, 15, 15, 15, 15, 15, 15, 15, 15], [-1, -1, -1, -1, -1, 15, 20, 20, 25, 30, 30, 30, 30, 30, 30, 30], [-1, -1, -1, -1, -1, -1, -1, -1, -1, 30, 30, 30, 32, 37, 37, 37], [-1, -1, -1, -1, -1, -1, -1, -1, -1, -1, 38, -1, 38, 40, -1, 45], [-1, -1, -1, -1, -1, -1, -1, -1, -1, -1, -1, -1, -1, 47, -1, 47], [-1, -1, -1, -1, -1, -1, -1, -1, -1, -1, -1, -1, -1, -1, -1, 51]]\n"
     ]
    }
   ],
   "source": [
    "# recursion + data storing\n",
    "\n",
    "#knapsack using recursion\n",
    "def calc_max(p,w,c,n):\n",
    "    if n==0 or c==0:\n",
    "        return 0\n",
    "    if DP[n][c]!=-1:\n",
    "        return DP[n][c]\n",
    "    if (w[n-1]<=c):\n",
    "        DP[n][c]= max((p[n-1]+calc_max(p,w,c-w[n-1],n-1),calc_max(p,w,c,n-1)))\n",
    "        return DP[n][c]\n",
    "    else:\n",
    "        DP[n][c]=calc_max(p,w,c,n-1)\n",
    "        return DP[n][c]\n",
    "                   \n",
    "    \n",
    "\n",
    "p=[5,10,15,7,8,9,4]\n",
    "w=[1,3,5,4,1,3,2]\n",
    "c=15\n",
    "n=len(p)\n",
    "DP=[[-1 for i in range(c+1)] for j in range(n+1)]\n",
    "\n",
    "\n",
    "print(calc_max(p,w,c,n))\n",
    "print(DP)"
   ]
  },
  {
   "cell_type": "code",
   "execution_count": 8,
   "id": "ab4ee55b",
   "metadata": {},
   "outputs": [
    {
     "name": "stdout",
     "output_type": "stream",
     "text": [
      "[[0, 0, 4, 4, 4, 4, 4, 4, 4, 4, 4, 4, 4, 4, 4, 4], [0, 5, 5, 9, 9, 9, 9, 9, 9, 9, 9, 9, 9, 9, 9, 9], [0, 5, 5, 10, 15, 15, 19, 19, 19, 19, 19, 19, 19, 19, 19, 19], [0, 5, 5, 10, 15, 15, 20, 20, 25, 30, 30, 34, 34, 34, 34, 34], [0, 5, 5, 10, 15, 15, 20, 20, 25, 30, 30, 34, 34, 37, 37, 41], [0, 8, 13, 13, 18, 23, 23, 28, 28, 33, 38, 38, 42, 42, 45, 45], [0, 8, 13, 13, 18, 23, 23, 28, 32, 33, 38, 38, 42, 47, 47, 51], [0, 0, 0, 0, 0, 0, 0, 0, 0, 0, 0, 0, 0, 0, 0, 0]]\n",
      "51\n"
     ]
    }
   ],
   "source": [
    "p=[5,10,15,7,8,9,4]\n",
    "w=[1,3,5,4,1,3,2]\n",
    "c=15\n",
    "n=len(p)\n",
    "DP=[[0 for i in range(c+1)]for j in range(n+1)]\n",
    "for i in range(n):\n",
    "    for c in range(c+1):\n",
    "        if i==0 or c==0:\n",
    "            DP[i][c]=0\n",
    "        if c-w[i-1]<0:\n",
    "            DP[i][c]=DP[i-1][c]\n",
    "        else:\n",
    "            DP[i][c]=max(DP[i-1][c],p[i-1]+DP[i-1][c-w[i-1]])\n",
    "print(DP)\n",
    "print(DP[i][c])\n",
    "            \n",
    "        \n",
    "        "
   ]
  }
 ],
 "metadata": {
  "kernelspec": {
   "display_name": "Python 3 (ipykernel)",
   "language": "python",
   "name": "python3"
  },
  "language_info": {
   "codemirror_mode": {
    "name": "ipython",
    "version": 3
   },
   "file_extension": ".py",
   "mimetype": "text/x-python",
   "name": "python",
   "nbconvert_exporter": "python",
   "pygments_lexer": "ipython3",
   "version": "3.11.5"
  }
 },
 "nbformat": 4,
 "nbformat_minor": 5
}
